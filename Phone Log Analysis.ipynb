{
 "cells": [
  {
   "cell_type": "code",
   "execution_count": 22,
   "metadata": {
    "collapsed": true
   },
   "outputs": [],
   "source": [
    "import numpy as np\n",
    "import pandas as pd\n",
    "from matplotlib import pyplot as plt\n",
    "import data_engine as de\n",
    "%matplotlib inline\n"
   ]
  },
  {
   "cell_type": "code",
   "execution_count": 2,
   "metadata": {
    "collapsed": true
   },
   "outputs": [],
   "source": [
    "data = pd.read_csv(\"data.csv\", header=-1)\n",
    "data.columns = ['datatime', 'call_id', 'employee_id', 'duration', 'wating', 'status']"
   ]
  },
  {
   "cell_type": "code",
   "execution_count": 3,
   "metadata": {
    "collapsed": false
   },
   "outputs": [
    {
     "name": "stdout",
     "output_type": "stream",
     "text": [
      "Caller with most calls duration\n"
     ]
    },
    {
     "data": {
      "text/html": [
       "<div>\n",
       "<table border=\"1\" class=\"dataframe\">\n",
       "  <thead>\n",
       "    <tr style=\"text-align: right;\">\n",
       "      <th></th>\n",
       "      <th>duration</th>\n",
       "    </tr>\n",
       "    <tr>\n",
       "      <th>call_id</th>\n",
       "      <th></th>\n",
       "    </tr>\n",
       "  </thead>\n",
       "  <tbody>\n",
       "    <tr>\n",
       "      <th>155a1807-7287-11e7-b8c4-525400680e18</th>\n",
       "      <td>424665</td>\n",
       "    </tr>\n",
       "    <tr>\n",
       "      <th>14d2d382-7287-11e7-b8c4-525400680e18</th>\n",
       "      <td>258207</td>\n",
       "    </tr>\n",
       "    <tr>\n",
       "      <th>14d5afac-7287-11e7-b8c4-525400680e18</th>\n",
       "      <td>243962</td>\n",
       "    </tr>\n",
       "    <tr>\n",
       "      <th>14f09f12-7287-11e7-b8c4-525400680e18</th>\n",
       "      <td>240100</td>\n",
       "    </tr>\n",
       "    <tr>\n",
       "      <th>14cf9a09-7287-11e7-b8c4-525400680e18</th>\n",
       "      <td>209300</td>\n",
       "    </tr>\n",
       "  </tbody>\n",
       "</table>\n",
       "</div>"
      ],
      "text/plain": [
       "                                      duration\n",
       "call_id                                       \n",
       "155a1807-7287-11e7-b8c4-525400680e18    424665\n",
       "14d2d382-7287-11e7-b8c4-525400680e18    258207\n",
       "14d5afac-7287-11e7-b8c4-525400680e18    243962\n",
       "14f09f12-7287-11e7-b8c4-525400680e18    240100\n",
       "14cf9a09-7287-11e7-b8c4-525400680e18    209300"
      ]
     },
     "execution_count": 3,
     "metadata": {},
     "output_type": "execute_result"
    }
   ],
   "source": [
    "print(\"Caller with most calls duration\" )\n",
    "data.groupby(['call_id']).sum()[['duration']].sort_values(['duration'], ascending=[False]).head()"
   ]
  },
  {
   "cell_type": "code",
   "execution_count": 4,
   "metadata": {
    "collapsed": false
   },
   "outputs": [
    {
     "name": "stdout",
     "output_type": "stream",
     "text": [
      "Caller with highest avg calls duration\n"
     ]
    },
    {
     "data": {
      "text/html": [
       "<div>\n",
       "<table border=\"1\" class=\"dataframe\">\n",
       "  <thead>\n",
       "    <tr style=\"text-align: right;\">\n",
       "      <th></th>\n",
       "      <th>duration</th>\n",
       "    </tr>\n",
       "    <tr>\n",
       "      <th>call_id</th>\n",
       "      <th></th>\n",
       "    </tr>\n",
       "  </thead>\n",
       "  <tbody>\n",
       "    <tr>\n",
       "      <th>15008dc9-7287-11e7-b8c4-525400680e18</th>\n",
       "      <td>82643.000000</td>\n",
       "    </tr>\n",
       "    <tr>\n",
       "      <th>15a4c853-7287-11e7-b8c4-525400680e18</th>\n",
       "      <td>26464.000000</td>\n",
       "    </tr>\n",
       "    <tr>\n",
       "      <th>1557af17-7287-11e7-b8c4-525400680e18</th>\n",
       "      <td>7363.142857</td>\n",
       "    </tr>\n",
       "    <tr>\n",
       "      <th>155a1807-7287-11e7-b8c4-525400680e18</th>\n",
       "      <td>5981.197183</td>\n",
       "    </tr>\n",
       "    <tr>\n",
       "      <th>159f53f0-7287-11e7-b8c4-525400680e18</th>\n",
       "      <td>3549.000000</td>\n",
       "    </tr>\n",
       "  </tbody>\n",
       "</table>\n",
       "</div>"
      ],
      "text/plain": [
       "                                          duration\n",
       "call_id                                           \n",
       "15008dc9-7287-11e7-b8c4-525400680e18  82643.000000\n",
       "15a4c853-7287-11e7-b8c4-525400680e18  26464.000000\n",
       "1557af17-7287-11e7-b8c4-525400680e18   7363.142857\n",
       "155a1807-7287-11e7-b8c4-525400680e18   5981.197183\n",
       "159f53f0-7287-11e7-b8c4-525400680e18   3549.000000"
      ]
     },
     "execution_count": 4,
     "metadata": {},
     "output_type": "execute_result"
    }
   ],
   "source": [
    "print(\"Caller with highest avg calls duration\" )\n",
    "data.groupby(['call_id']).mean()[['duration']].sort_values(['duration'], ascending=[False]).head()"
   ]
  },
  {
   "cell_type": "code",
   "execution_count": 5,
   "metadata": {
    "collapsed": false
   },
   "outputs": [
    {
     "name": "stdout",
     "output_type": "stream",
     "text": [
      "Caller with lowwest calls duration that not zero\n"
     ]
    },
    {
     "data": {
      "text/html": [
       "<div>\n",
       "<table border=\"1\" class=\"dataframe\">\n",
       "  <thead>\n",
       "    <tr style=\"text-align: right;\">\n",
       "      <th></th>\n",
       "      <th>duration</th>\n",
       "    </tr>\n",
       "    <tr>\n",
       "      <th>call_id</th>\n",
       "      <th></th>\n",
       "    </tr>\n",
       "  </thead>\n",
       "  <tbody>\n",
       "    <tr>\n",
       "      <th>15a09c69-7287-11e7-b8c4-525400680e18</th>\n",
       "      <td>1</td>\n",
       "    </tr>\n",
       "    <tr>\n",
       "      <th>159008a8-7287-11e7-b8c4-525400680e18</th>\n",
       "      <td>1</td>\n",
       "    </tr>\n",
       "    <tr>\n",
       "      <th>15a5216f-7287-11e7-b8c4-525400680e18</th>\n",
       "      <td>1</td>\n",
       "    </tr>\n",
       "    <tr>\n",
       "      <th>15992157-7287-11e7-b8c4-525400680e18</th>\n",
       "      <td>1</td>\n",
       "    </tr>\n",
       "    <tr>\n",
       "      <th>159ef766-7287-11e7-b8c4-525400680e18</th>\n",
       "      <td>1</td>\n",
       "    </tr>\n",
       "  </tbody>\n",
       "</table>\n",
       "</div>"
      ],
      "text/plain": [
       "                                      duration\n",
       "call_id                                       \n",
       "15a09c69-7287-11e7-b8c4-525400680e18         1\n",
       "159008a8-7287-11e7-b8c4-525400680e18         1\n",
       "15a5216f-7287-11e7-b8c4-525400680e18         1\n",
       "15992157-7287-11e7-b8c4-525400680e18         1\n",
       "159ef766-7287-11e7-b8c4-525400680e18         1"
      ]
     },
     "execution_count": 5,
     "metadata": {},
     "output_type": "execute_result"
    }
   ],
   "source": [
    "print(\"Caller with lowwest calls duration that not zero\")\n",
    "data[data.duration != 0].groupby(['call_id']).sum()[['duration']].sort_values(['duration'], ascending=[True]).head()"
   ]
  },
  {
   "cell_type": "code",
   "execution_count": 6,
   "metadata": {
    "collapsed": false
   },
   "outputs": [
    {
     "name": "stdout",
     "output_type": "stream",
     "text": [
      "Caller with lowwest avg calls duration\n"
     ]
    },
    {
     "data": {
      "text/html": [
       "<div>\n",
       "<table border=\"1\" class=\"dataframe\">\n",
       "  <thead>\n",
       "    <tr style=\"text-align: right;\">\n",
       "      <th></th>\n",
       "      <th>duration</th>\n",
       "    </tr>\n",
       "    <tr>\n",
       "      <th>call_id</th>\n",
       "      <th></th>\n",
       "    </tr>\n",
       "  </thead>\n",
       "  <tbody>\n",
       "    <tr>\n",
       "      <th>15008dc9-7287-11e7-b8c4-525400680e18</th>\n",
       "      <td>82643.000000</td>\n",
       "    </tr>\n",
       "    <tr>\n",
       "      <th>15a4c853-7287-11e7-b8c4-525400680e18</th>\n",
       "      <td>26464.000000</td>\n",
       "    </tr>\n",
       "    <tr>\n",
       "      <th>1557af17-7287-11e7-b8c4-525400680e18</th>\n",
       "      <td>7363.142857</td>\n",
       "    </tr>\n",
       "    <tr>\n",
       "      <th>155a1807-7287-11e7-b8c4-525400680e18</th>\n",
       "      <td>5981.197183</td>\n",
       "    </tr>\n",
       "    <tr>\n",
       "      <th>159f53f0-7287-11e7-b8c4-525400680e18</th>\n",
       "      <td>3549.000000</td>\n",
       "    </tr>\n",
       "  </tbody>\n",
       "</table>\n",
       "</div>"
      ],
      "text/plain": [
       "                                          duration\n",
       "call_id                                           \n",
       "15008dc9-7287-11e7-b8c4-525400680e18  82643.000000\n",
       "15a4c853-7287-11e7-b8c4-525400680e18  26464.000000\n",
       "1557af17-7287-11e7-b8c4-525400680e18   7363.142857\n",
       "155a1807-7287-11e7-b8c4-525400680e18   5981.197183\n",
       "159f53f0-7287-11e7-b8c4-525400680e18   3549.000000"
      ]
     },
     "execution_count": 6,
     "metadata": {},
     "output_type": "execute_result"
    }
   ],
   "source": [
    "print(\"Caller with lowwest avg calls duration\" )\n",
    "data.groupby(['call_id']).mean()[['duration']].sort_values(['duration'], ascending=[False]).head()"
   ]
  },
  {
   "cell_type": "code",
   "execution_count": 7,
   "metadata": {
    "collapsed": false
   },
   "outputs": [
    {
     "name": "stdout",
     "output_type": "stream",
     "text": [
      "employee with most calls duration\n"
     ]
    },
    {
     "data": {
      "text/html": [
       "<div>\n",
       "<table border=\"1\" class=\"dataframe\">\n",
       "  <thead>\n",
       "    <tr style=\"text-align: right;\">\n",
       "      <th></th>\n",
       "      <th>duration</th>\n",
       "    </tr>\n",
       "    <tr>\n",
       "      <th>employee_id</th>\n",
       "      <th></th>\n",
       "    </tr>\n",
       "  </thead>\n",
       "  <tbody>\n",
       "    <tr>\n",
       "      <th>20</th>\n",
       "      <td>4536417</td>\n",
       "    </tr>\n",
       "    <tr>\n",
       "      <th>37</th>\n",
       "      <td>4176255</td>\n",
       "    </tr>\n",
       "    <tr>\n",
       "      <th>7</th>\n",
       "      <td>4149119</td>\n",
       "    </tr>\n",
       "    <tr>\n",
       "      <th>22</th>\n",
       "      <td>4109111</td>\n",
       "    </tr>\n",
       "    <tr>\n",
       "      <th>42</th>\n",
       "      <td>3840368</td>\n",
       "    </tr>\n",
       "  </tbody>\n",
       "</table>\n",
       "</div>"
      ],
      "text/plain": [
       "             duration\n",
       "employee_id          \n",
       "20            4536417\n",
       "37            4176255\n",
       "7             4149119\n",
       "22            4109111\n",
       "42            3840368"
      ]
     },
     "execution_count": 7,
     "metadata": {},
     "output_type": "execute_result"
    }
   ],
   "source": [
    "print(\"employee with most calls duration\" )\n",
    "data.groupby(['employee_id']).sum()[['duration']].sort_values(['duration'], ascending=[False]).head()"
   ]
  },
  {
   "cell_type": "code",
   "execution_count": 8,
   "metadata": {
    "collapsed": false
   },
   "outputs": [
    {
     "name": "stdout",
     "output_type": "stream",
     "text": [
      "employee with highest avg calls duration\n"
     ]
    },
    {
     "data": {
      "text/html": [
       "<div>\n",
       "<table border=\"1\" class=\"dataframe\">\n",
       "  <thead>\n",
       "    <tr style=\"text-align: right;\">\n",
       "      <th></th>\n",
       "      <th>duration</th>\n",
       "    </tr>\n",
       "    <tr>\n",
       "      <th>employee_id</th>\n",
       "      <th></th>\n",
       "    </tr>\n",
       "  </thead>\n",
       "  <tbody>\n",
       "    <tr>\n",
       "      <th>34</th>\n",
       "      <td>244.082783</td>\n",
       "    </tr>\n",
       "    <tr>\n",
       "      <th>15</th>\n",
       "      <td>243.405041</td>\n",
       "    </tr>\n",
       "    <tr>\n",
       "      <th>36</th>\n",
       "      <td>235.176943</td>\n",
       "    </tr>\n",
       "    <tr>\n",
       "      <th>35</th>\n",
       "      <td>225.230164</td>\n",
       "    </tr>\n",
       "    <tr>\n",
       "      <th>29</th>\n",
       "      <td>224.030505</td>\n",
       "    </tr>\n",
       "  </tbody>\n",
       "</table>\n",
       "</div>"
      ],
      "text/plain": [
       "               duration\n",
       "employee_id            \n",
       "34           244.082783\n",
       "15           243.405041\n",
       "36           235.176943\n",
       "35           225.230164\n",
       "29           224.030505"
      ]
     },
     "execution_count": 8,
     "metadata": {},
     "output_type": "execute_result"
    }
   ],
   "source": [
    "print(\"employee with highest avg calls duration\" )\n",
    "data.groupby(['employee_id']).mean()[['duration']].sort_values(['duration'], ascending=[False]).head()"
   ]
  },
  {
   "cell_type": "code",
   "execution_count": 11,
   "metadata": {
    "collapsed": false
   },
   "outputs": [
    {
     "name": "stdout",
     "output_type": "stream",
     "text": [
      "employee with lowest calls duration that not zero\n"
     ]
    },
    {
     "data": {
      "text/html": [
       "<div>\n",
       "<table border=\"1\" class=\"dataframe\">\n",
       "  <thead>\n",
       "    <tr style=\"text-align: right;\">\n",
       "      <th></th>\n",
       "      <th>duration</th>\n",
       "    </tr>\n",
       "    <tr>\n",
       "      <th>employee_id</th>\n",
       "      <th></th>\n",
       "    </tr>\n",
       "  </thead>\n",
       "  <tbody>\n",
       "    <tr>\n",
       "      <th>67</th>\n",
       "      <td>2</td>\n",
       "    </tr>\n",
       "    <tr>\n",
       "      <th>47</th>\n",
       "      <td>446</td>\n",
       "    </tr>\n",
       "    <tr>\n",
       "      <th>60</th>\n",
       "      <td>10978</td>\n",
       "    </tr>\n",
       "    <tr>\n",
       "      <th>53</th>\n",
       "      <td>18503</td>\n",
       "    </tr>\n",
       "    <tr>\n",
       "      <th>52</th>\n",
       "      <td>36381</td>\n",
       "    </tr>\n",
       "  </tbody>\n",
       "</table>\n",
       "</div>"
      ],
      "text/plain": [
       "             duration\n",
       "employee_id          \n",
       "67                  2\n",
       "47                446\n",
       "60              10978\n",
       "53              18503\n",
       "52              36381"
      ]
     },
     "execution_count": 11,
     "metadata": {},
     "output_type": "execute_result"
    }
   ],
   "source": [
    "print(\"employee with lowest calls duration that not zero\")\n",
    "data[data.duration != 0].groupby(['employee_id']).sum()[['duration']].sort_values(['duration'], ascending=[True]).head()"
   ]
  },
  {
   "cell_type": "code",
   "execution_count": 12,
   "metadata": {
    "collapsed": false
   },
   "outputs": [
    {
     "name": "stdout",
     "output_type": "stream",
     "text": [
      "employee with lowwest avg calls duration\n"
     ]
    },
    {
     "data": {
      "text/html": [
       "<div>\n",
       "<table border=\"1\" class=\"dataframe\">\n",
       "  <thead>\n",
       "    <tr style=\"text-align: right;\">\n",
       "      <th></th>\n",
       "      <th>duration</th>\n",
       "    </tr>\n",
       "    <tr>\n",
       "      <th>employee_id</th>\n",
       "      <th></th>\n",
       "    </tr>\n",
       "  </thead>\n",
       "  <tbody>\n",
       "    <tr>\n",
       "      <th>67</th>\n",
       "      <td>2.000000</td>\n",
       "    </tr>\n",
       "    <tr>\n",
       "      <th>60</th>\n",
       "      <td>25.709602</td>\n",
       "    </tr>\n",
       "    <tr>\n",
       "      <th>63</th>\n",
       "      <td>30.220700</td>\n",
       "    </tr>\n",
       "    <tr>\n",
       "      <th>47</th>\n",
       "      <td>31.857143</td>\n",
       "    </tr>\n",
       "    <tr>\n",
       "      <th>64</th>\n",
       "      <td>32.644654</td>\n",
       "    </tr>\n",
       "  </tbody>\n",
       "</table>\n",
       "</div>"
      ],
      "text/plain": [
       "              duration\n",
       "employee_id           \n",
       "67            2.000000\n",
       "60           25.709602\n",
       "63           30.220700\n",
       "47           31.857143\n",
       "64           32.644654"
      ]
     },
     "execution_count": 12,
     "metadata": {},
     "output_type": "execute_result"
    }
   ],
   "source": [
    "print(\"employee with lowwest avg calls duration\" )\n",
    "data.groupby(['employee_id']).mean()[['duration']].sort_values(['duration'], ascending=[True]).head()"
   ]
  },
  {
   "cell_type": "code",
   "execution_count": 16,
   "metadata": {
    "collapsed": false
   },
   "outputs": [
    {
     "name": "stdout",
     "output_type": "stream",
     "text": [
      "most total talked employee_id and caller\n"
     ]
    },
    {
     "data": {
      "text/html": [
       "<div>\n",
       "<table border=\"1\" class=\"dataframe\">\n",
       "  <thead>\n",
       "    <tr style=\"text-align: right;\">\n",
       "      <th></th>\n",
       "      <th></th>\n",
       "      <th>duration</th>\n",
       "    </tr>\n",
       "    <tr>\n",
       "      <th>employee_id</th>\n",
       "      <th>call_id</th>\n",
       "      <th></th>\n",
       "    </tr>\n",
       "  </thead>\n",
       "  <tbody>\n",
       "    <tr>\n",
       "      <th>66</th>\n",
       "      <th>155a1807-7287-11e7-b8c4-525400680e18</th>\n",
       "      <td>415774</td>\n",
       "    </tr>\n",
       "    <tr>\n",
       "      <th>64</th>\n",
       "      <th>15008dc9-7287-11e7-b8c4-525400680e18</th>\n",
       "      <td>165010</td>\n",
       "    </tr>\n",
       "    <tr>\n",
       "      <th>66</th>\n",
       "      <th>1557af17-7287-11e7-b8c4-525400680e18</th>\n",
       "      <td>100779</td>\n",
       "    </tr>\n",
       "    <tr>\n",
       "      <th>35</th>\n",
       "      <th>15a4c853-7287-11e7-b8c4-525400680e18</th>\n",
       "      <td>26464</td>\n",
       "    </tr>\n",
       "    <tr>\n",
       "      <th>22</th>\n",
       "      <th>14d2d382-7287-11e7-b8c4-525400680e18</th>\n",
       "      <td>16658</td>\n",
       "    </tr>\n",
       "  </tbody>\n",
       "</table>\n",
       "</div>"
      ],
      "text/plain": [
       "                                                  duration\n",
       "employee_id call_id                                       \n",
       "66          155a1807-7287-11e7-b8c4-525400680e18    415774\n",
       "64          15008dc9-7287-11e7-b8c4-525400680e18    165010\n",
       "66          1557af17-7287-11e7-b8c4-525400680e18    100779\n",
       "35          15a4c853-7287-11e7-b8c4-525400680e18     26464\n",
       "22          14d2d382-7287-11e7-b8c4-525400680e18     16658"
      ]
     },
     "execution_count": 16,
     "metadata": {},
     "output_type": "execute_result"
    }
   ],
   "source": [
    "print(\"most total talked employee_id and caller\")\n",
    "data.groupby(['employee_id', 'call_id']).sum().sort_values(['duration'], ascending=[False])[['duration']].head()"
   ]
  },
  {
   "cell_type": "code",
   "execution_count": 18,
   "metadata": {
    "collapsed": false
   },
   "outputs": [
    {
     "name": "stdout",
     "output_type": "stream",
     "text": [
      "most sum talked employee_id and caller\n"
     ]
    },
    {
     "data": {
      "text/html": [
       "<div>\n",
       "<table border=\"1\" class=\"dataframe\">\n",
       "  <thead>\n",
       "    <tr style=\"text-align: right;\">\n",
       "      <th></th>\n",
       "      <th></th>\n",
       "      <th>duration</th>\n",
       "    </tr>\n",
       "    <tr>\n",
       "      <th>employee_id</th>\n",
       "      <th>call_id</th>\n",
       "      <th></th>\n",
       "    </tr>\n",
       "  </thead>\n",
       "  <tbody>\n",
       "    <tr>\n",
       "      <th>64</th>\n",
       "      <th>15008dc9-7287-11e7-b8c4-525400680e18</th>\n",
       "      <td>165010.0</td>\n",
       "    </tr>\n",
       "    <tr>\n",
       "      <th rowspan=\"2\" valign=\"top\">66</th>\n",
       "      <th>1557af17-7287-11e7-b8c4-525400680e18</th>\n",
       "      <td>50389.5</td>\n",
       "    </tr>\n",
       "    <tr>\n",
       "      <th>155a1807-7287-11e7-b8c4-525400680e18</th>\n",
       "      <td>41577.4</td>\n",
       "    </tr>\n",
       "    <tr>\n",
       "      <th>35</th>\n",
       "      <th>15a4c853-7287-11e7-b8c4-525400680e18</th>\n",
       "      <td>26464.0</td>\n",
       "    </tr>\n",
       "    <tr>\n",
       "      <th>63</th>\n",
       "      <th>1589ffdc-7287-11e7-b8c4-525400680e18</th>\n",
       "      <td>4026.0</td>\n",
       "    </tr>\n",
       "  </tbody>\n",
       "</table>\n",
       "</div>"
      ],
      "text/plain": [
       "                                                  duration\n",
       "employee_id call_id                                       \n",
       "64          15008dc9-7287-11e7-b8c4-525400680e18  165010.0\n",
       "66          1557af17-7287-11e7-b8c4-525400680e18   50389.5\n",
       "            155a1807-7287-11e7-b8c4-525400680e18   41577.4\n",
       "35          15a4c853-7287-11e7-b8c4-525400680e18   26464.0\n",
       "63          1589ffdc-7287-11e7-b8c4-525400680e18    4026.0"
      ]
     },
     "execution_count": 18,
     "metadata": {},
     "output_type": "execute_result"
    }
   ],
   "source": [
    "print(\"most sum talked employee_id and caller\")\n",
    "data.groupby(['employee_id', 'call_id']).mean().sort_values(['duration'], ascending=[False])[['duration']].head()"
   ]
  },
  {
   "cell_type": "code",
   "execution_count": 19,
   "metadata": {
    "collapsed": true
   },
   "outputs": [],
   "source": [
    "data = de.str_datetime_to_datetime(data, data.columns[0], 'date', \"%Y-%m-%d %H:%M:%S\")\n",
    "data = de.datetime_to_date(data, 'date', 'days')\n",
    "data = de.datetime_to_time(data, 'date', 'time')"
   ]
  },
  {
   "cell_type": "code",
   "execution_count": 23,
   "metadata": {
    "collapsed": false
   },
   "outputs": [
    {
     "data": {
      "text/plain": [
       "<matplotlib.axes._subplots.AxesSubplot at 0x1e45c3aa860>"
      ]
     },
     "execution_count": 23,
     "metadata": {},
     "output_type": "execute_result"
    },
    {
     "data": {
      "image/png": "[encoded data removed]",
      "text/plain": [
       "<matplotlib.figure.Figure at 0x1e45ddc44e0>"
      ]
     },
     "metadata": {},
     "output_type": "display_data"
    }
   ],
   "source": [
    "data.groupby(['days']).count()[['datatime']].plot()"
   ]
  },
  {
   "cell_type": "code",
   "execution_count": 26,
   "metadata": {
    "collapsed": false
   },
   "outputs": [
    {
     "data": {
      "text/plain": [
       "<matplotlib.axes._subplots.AxesSubplot at 0x1e45de496a0>"
      ]
     },
     "execution_count": 26,
     "metadata": {},
     "output_type": "execute_result"
    },
    {
     "data": {
      "image/png": "[encoded data removed]",
      "text/plain": [
       "<matplotlib.figure.Figure at 0x1e45de2b6d8>"
      ]
     },
     "metadata": {},
     "output_type": "display_data"
    }
   ],
   "source": [
    "data.groupby(['time']).count()[['datatime']].plot(rot=90)"
   ]
  }
 ],
 "metadata": {
  "kernelspec": {
   "display_name": "Python 3",
   "language": "python",
   "name": "python3"
  },
  "language_info": {
   "codemirror_mode": {
    "name": "ipython",
    "version": 3
   },
   "file_extension": ".py",
   "mimetype": "text/x-python",
   "name": "python",
   "nbconvert_exporter": "python",
   "pygments_lexer": "ipython3",
   "version": "3.5.2"
  }
 },
 "nbformat": 4,
 "nbformat_minor": 2
}
